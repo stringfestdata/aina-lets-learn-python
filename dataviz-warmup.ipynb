{
 "cells": [
  {
   "cell_type": "markdown",
   "id": "fifth-minneapolis",
   "metadata": {},
   "source": [
    "# Five things take-home\n",
    "\n",
    "Follow along with this notebook to learn how to make visualizations in Excel. The solutions will be in this same folder as `five-things-take-home.xlsx`.\n",
    "\n",
    "## Reading in an Excel workbook\n",
    "\n",
    "We can do this with a package you've heard of, `pandas`; particularly, the `read_excel()` function. Let's read in `housing.xlsx`, located in this `take-home` folder. \n",
    "\n",
    "Name the object `housing`: \n"
   ]
  },
  {
   "cell_type": "code",
   "execution_count": null,
   "id": "australian-luxury",
   "metadata": {},
   "outputs": [],
   "source": [
    "import pandas as pd\n",
    "\n",
    "____ = pd.read_excel('housing.xlsx')"
   ]
  },
  {
   "cell_type": "markdown",
   "id": "equivalent-islam",
   "metadata": {},
   "source": [
    "Because our notebook and Excel file reside in the same folder, we don't need to specify the file path where Python should look for the file. To learn about what to do when this isn't the case, check out the book.\n",
    "\n",
    "Pandas stores row-and-column datasets like you might find in a spreadsheet in something called a DataFrame. To view the data inside, we can *print* it just like any other object. \n",
    "\n",
    "Go ahead and print your `housing` object: "
   ]
  },
  {
   "cell_type": "code",
   "execution_count": null,
   "id": "stone-rebel",
   "metadata": {},
   "outputs": [],
   "source": [
    "# Print the housing DataFrame\n",
    "\n",
    "____"
   ]
  },
  {
   "cell_type": "markdown",
   "id": "incorporated-barrier",
   "metadata": {},
   "source": [
    "Jupyter is designed to print DataFrames in a visually appealing way, and it only prints the first and last five rows so as not to overwhelm the console. \n",
    "\n",
    "## Summary statistics in `pandas`\n",
    "\n",
    "`pandas` has lots of ways to work with data; let's cover a couple here.\n",
    "\n",
    "To find the descriptive statistics of the `housing` dataset, we'll use the `describe()` method:"
   ]
  },
  {
   "cell_type": "code",
   "execution_count": null,
   "id": "ordered-traveler",
   "metadata": {},
   "outputs": [],
   "source": [
    "housing.describe()"
   ]
  },
  {
   "cell_type": "markdown",
   "id": "voluntary-domestic",
   "metadata": {},
   "source": [
    "When you see something with parentheses attached to an object by a period, that's a method. They do similar things as functions; the difference lies in the details of object-oriented programming.\n",
    "\n",
    "You may have noticed that not all variables are included in the statistics. `pandas` by default excludes non-numeric summary statistics from `describe()`, but we can override that.\n",
    "\n",
    "In the next cell, include `include=all` inside the parentheses in the `describe()` method:"
   ]
  },
  {
   "cell_type": "code",
   "execution_count": null,
   "id": "retired-fundamental",
   "metadata": {},
   "outputs": [],
   "source": [
    "# Include all variables in the summary statistics: \n",
    "housing.describe(____=____)"
   ]
  },
  {
   "cell_type": "markdown",
   "id": "imported-connection",
   "metadata": {},
   "source": [
    "There's so much more with data analysis and manipulation you can do with `pandas`; for more, check out the book. For now, let's do a bit with data visualization:\n",
    "\n",
    "## Data visualization with `seaborn`\n",
    "\n",
    "This is another package you heard about in the workshop. Go ahead and import the package. I will include its common alias, `sns`:"
   ]
  },
  {
   "cell_type": "code",
   "execution_count": null,
   "id": "raising-piano",
   "metadata": {},
   "outputs": [],
   "source": [
    "import seaborn as sns"
   ]
  },
  {
   "cell_type": "markdown",
   "id": "operating-airplane",
   "metadata": {},
   "source": [
    "`seaborn` comes with lots of ways to customize plots, but we'll stick with the basics. We're going to use different functions for different plot types (boxplot, scatterplot, etc.). Inside those functions we'll include the following *arguments*:\n",
    "\n",
    "- `x`: What variable goes on the X-axis\n",
    "- `y`: What variable goes on the Y-axis\n",
    "- `data`: What dataset those variables are found in\n",
    "\n",
    "This works particularly well if our data's stored in a `pandas` DataFrame... and `housing` is.\n",
    "\n",
    "### Boxplot\n",
    "\n",
    "First, I'll plot the distribution of the `price` variable as a boxplot using, not surprisingly, the `boxplot()` function. This is a *univariate* plot; as I'm only plotting one variable I only need to specify what data goes on one axis:"
   ]
  },
  {
   "cell_type": "code",
   "execution_count": null,
   "id": "adjustable-cricket",
   "metadata": {},
   "outputs": [],
   "source": [
    "sns.boxplot(x='price', data=housing)"
   ]
  },
  {
   "cell_type": "markdown",
   "id": "artificial-detail",
   "metadata": {},
   "source": [
    "What happens when you run the plot this way? "
   ]
  },
  {
   "cell_type": "code",
   "execution_count": null,
   "id": "comparable-induction",
   "metadata": {},
   "outputs": [],
   "source": [
    "sns.boxplot(y='price', data=housing)"
   ]
  },
  {
   "cell_type": "markdown",
   "id": "confirmed-contribution",
   "metadata": {},
   "source": [
    "Say you wanted to see the distribution broken down by number of stories. You can do this by including `stories` along the X-axis. Give it a try:"
   ]
  },
  {
   "cell_type": "code",
   "execution_count": null,
   "id": "grand-central",
   "metadata": {},
   "outputs": [],
   "source": [
    "sns.boxplot(____=____, y='price', data=housing)"
   ]
  },
  {
   "cell_type": "markdown",
   "id": "eleven-windows",
   "metadata": {},
   "source": [
    "I think it's silly to give each of these categories its own color; to override that I'll include the `color` argument:"
   ]
  },
  {
   "cell_type": "code",
   "execution_count": null,
   "id": "bridal-growing",
   "metadata": {},
   "outputs": [],
   "source": [
    "sns.boxplot(x='stories', y='price', color='blue', data=housing)"
   ]
  },
  {
   "cell_type": "markdown",
   "id": "bright-stanford",
   "metadata": {},
   "source": [
    "Knowing what you know now, create a scatterplot showing `lotsize` on the X-axis and `price` on the Y-axis. The `seaborn` function is `scatterplot()`:"
   ]
  },
  {
   "cell_type": "code",
   "execution_count": null,
   "id": "devoted-jonathan",
   "metadata": {},
   "outputs": [],
   "source": [
    "sns.scatterplot(____, ____, ____)"
   ]
  },
  {
   "cell_type": "markdown",
   "id": "demographic-cookie",
   "metadata": {},
   "source": [
    "For more on data visualization with `seaborn`, check out (you guessed it!) the book.\n",
    "\n",
    "You can also head to the `five-things-take-home-solutions` file for a complete version of this notebook. "
   ]
  }
 ],
 "metadata": {
  "kernelspec": {
   "display_name": "Python 3",
   "language": "python",
   "name": "python3"
  },
  "language_info": {
   "codemirror_mode": {
    "name": "ipython",
    "version": 3
   },
   "file_extension": ".py",
   "mimetype": "text/x-python",
   "name": "python",
   "nbconvert_exporter": "python",
   "pygments_lexer": "ipython3",
   "version": "3.8.8"
  }
 },
 "nbformat": 4,
 "nbformat_minor": 5
}
