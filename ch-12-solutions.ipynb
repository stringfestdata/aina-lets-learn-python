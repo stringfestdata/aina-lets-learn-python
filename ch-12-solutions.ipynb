{
 "cells": [
  {
   "attachments": {},
   "cell_type": "markdown",
   "metadata": {},
   "source": [
    "## Data visualization\n",
    "\n",
    "- Drop the `name` column\n",
    "- Create a `weight_kg` column (`weight` * .454)\n",
    "- Sort by `mpg`, descending\n",
    "- Keep only the records with `cylinder` of more than 4\n",
    "- Get the average `mpg` for each `origin`"
   ]
  },
  {
   "cell_type": "code",
   "execution_count": null,
   "metadata": {},
   "outputs": [],
   "source": [
    "## Data visualization\n",
    "\n",
    "- Drop the `name` column\n",
    "- Create a `weight_kg` column (`weight` * .454)\n",
    "- Sort by `mpg`, descending\n",
    "- Keep only the records with `cylinder` of more than 4\n",
    "- Get the average `mpg` for each `origin`"
   ]
  }
 ],
 "metadata": {
  "kernelspec": {
   "display_name": "Python 3",
   "language": "python",
   "name": "python3"
  },
  "language_info": {
   "codemirror_mode": {
    "name": "ipython",
    "version": 3
   },
   "file_extension": ".py",
   "mimetype": "text/x-python",
   "name": "python",
   "nbconvert_exporter": "python",
   "pygments_lexer": "ipython3",
   "version": "3.8.3"
  }
 },
 "nbformat": 4,
 "nbformat_minor": 4
}
