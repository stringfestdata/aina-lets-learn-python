{
 "cells": [
  {
   "cell_type": "code",
   "execution_count": null,
   "metadata": {},
   "outputs": [],
   "source": [
    "# xlutils is available from Anaconda\n",
    "#!conda install xlutils"
   ]
  },
  {
   "cell_type": "code",
   "execution_count": null,
   "metadata": {},
   "outputs": [],
   "source": [
    "# pyxlsb is not\n",
    "# !pip install pyxlsb"
   ]
  },
  {
   "cell_type": "markdown",
   "metadata": {},
   "source": [
    "1. The Standard Library includes a module `random` containing a function called `random()` which works very similarly to Excel's `RAND()` (no arguments needed). Assign a run of this function to an object and print it.\n",
    "2. Learn about the `xlutils` package using the `?` operator."
   ]
  },
  {
   "cell_type": "code",
   "execution_count": null,
   "metadata": {},
   "outputs": [],
   "source": [
    "import random\n",
    "my_random = random.random()\n",
    "my_random"
   ]
  },
  {
   "cell_type": "code",
   "execution_count": null,
   "metadata": {},
   "outputs": [],
   "source": [
    "# Needs to be imported\n",
    "import xlutils\n",
    "?xlutils"
   ]
  },
  {
   "cell_type": "markdown",
   "metadata": {},
   "source": [
    "# Markdown time!\n",
    "\n",
    "## You'll get used to it\n",
    "\n",
    "To learn more about Markdown, check out [*The Markdown Guide*](https://www.markdownguide.org).\n",
    "\n",
    "But first, read my book :) \n",
    "\n",
    "![Book cover](images/book-cover.jpg)"
   ]
  },
  {
   "cell_type": "code",
   "execution_count": null,
   "metadata": {},
   "outputs": [],
   "source": []
  }
 ],
 "metadata": {
  "kernelspec": {
   "display_name": "Python 3",
   "language": "python",
   "name": "python3"
  },
  "language_info": {
   "codemirror_mode": {
    "name": "ipython",
    "version": 3
   },
   "file_extension": ".py",
   "mimetype": "text/x-python",
   "name": "python",
   "nbconvert_exporter": "python",
   "pygments_lexer": "ipython3",
   "version": "3.8.3"
  }
 },
 "nbformat": 4,
 "nbformat_minor": 4
}
