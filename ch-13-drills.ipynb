{
 "cells": [
  {
   "cell_type": "markdown",
   "metadata": {},
   "source": [
    "Dataset: `mpg` from `seaborn`\n",
    "\n",
    "Is there a difference between the average mileage of American and European cars? "
   ]
  },
  {
   "cell_type": "markdown",
   "metadata": {},
   "source": [
    "Dataset: `tips` from `seaborn`\n",
    "\n",
    "Between `total_bill` and `tip`, which is the independent and dependent variable?  \n",
    "Is the relationship linear?   \n",
    "If so, what is the influence of the independent on the linear variable? "
   ]
  },
  {
   "cell_type": "markdown",
   "metadata": {},
   "source": [
    "Dataset `tips` from `seaborn`\n",
    "\n",
    "Apply a train/test split to the `tip` model you developed earlier. What percentage of variabilty in y ix explained by x?"
   ]
  },
  {
   "cell_type": "code",
   "execution_count": null,
   "metadata": {},
   "outputs": [],
   "source": []
  }
 ],
 "metadata": {
  "kernelspec": {
   "display_name": "Python 3",
   "language": "python",
   "name": "python3"
  },
  "language_info": {
   "codemirror_mode": {
    "name": "ipython",
    "version": 3
   },
   "file_extension": ".py",
   "mimetype": "text/x-python",
   "name": "python",
   "nbconvert_exporter": "python",
   "pygments_lexer": "ipython3",
   "version": "3.8.8"
  }
 },
 "nbformat": 4,
 "nbformat_minor": 4
}
