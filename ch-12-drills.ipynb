{
 "cells": [
  {
   "cell_type": "markdown",
   "metadata": {},
   "source": [
    "Dataset: mpg (from seaborn)\n",
    "\n",
    "- Drop the `name` column\n",
    "- Create a `weight_kg` column (weight * .454)\n",
    "- Sort by `mpg` by low to high\n",
    "- Keep only the records with `cylinder` of more than 4\n",
    "- Get the average `mpg` for each `origin`\n"
   ]
  },
  {
   "cell_type": "markdown",
   "metadata": {},
   "source": [
    "Pick a `seaborn` dataset or two... and make some visualizations!\n",
    "\n",
    "Include at least two univariate and two bivariate plots. \n",
    "Label your axes and titles on at least one of them. \n",
    "\n",
    "Get a list of available datasets:\n",
    "\n",
    "```\n",
    "import seaborn as sns\n",
    "sns.get_dataset_names()\n",
    "```"
   ]
  },
  {
   "cell_type": "code",
   "execution_count": null,
   "metadata": {},
   "outputs": [],
   "source": [
    "import seaborn as sns\n",
    "sns.get_dataset_names()\n"
   ]
  },
  {
   "cell_type": "code",
   "execution_count": null,
   "metadata": {},
   "outputs": [],
   "source": []
  }
 ],
 "metadata": {
  "kernelspec": {
   "display_name": "Python 3",
   "language": "python",
   "name": "python3"
  },
  "language_info": {
   "codemirror_mode": {
    "name": "ipython",
    "version": 3
   },
   "file_extension": ".py",
   "mimetype": "text/x-python",
   "name": "python",
   "nbconvert_exporter": "python",
   "pygments_lexer": "ipython3",
   "version": "3.8.3"
  }
 },
 "nbformat": 4,
 "nbformat_minor": 2
}
