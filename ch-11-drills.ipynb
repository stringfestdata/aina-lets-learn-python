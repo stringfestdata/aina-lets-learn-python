{
 "cells": [
  {
   "cell_type": "markdown",
   "metadata": {},
   "source": [
    "- Install `vega_datasets` from `pip`  \n",
    "- Import the `movies` dataset:\n",
    "\n",
    "```\n",
    "import pandas as pd\n",
    "from vega_datasets import data\n",
    "movies = data.movies()\n",
    "```\n",
    "\n",
    "- Generate descriptive statistics\n",
    "- Write first five rows to Excel"
   ]
  },
  {
   "cell_type": "code",
   "execution_count": null,
   "metadata": {},
   "outputs": [],
   "source": []
  }
 ],
 "metadata": {
  "kernelspec": {
   "display_name": "Python 3",
   "language": "python",
   "name": "python3"
  },
  "language_info": {
   "codemirror_mode": {
    "name": "ipython",
    "version": 3
   },
   "file_extension": ".py",
   "mimetype": "text/x-python",
   "name": "python",
   "nbconvert_exporter": "python",
   "pygments_lexer": "ipython3",
   "version": "3.7.4"
  }
 },
 "nbformat": 4,
 "nbformat_minor": 4
}
